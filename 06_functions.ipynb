{
  "nbformat": 4,
  "nbformat_minor": 0,
  "metadata": {
    "colab": {
      "provenance": [],
      "authorship_tag": "ABX9TyO/ZlfiOLrk1LsJbWyuRP3O",
      "include_colab_link": true
    },
    "kernelspec": {
      "name": "python3",
      "display_name": "Python 3"
    },
    "language_info": {
      "name": "python"
    }
  },
  "cells": [
    {
      "cell_type": "markdown",
      "metadata": {
        "id": "view-in-github",
        "colab_type": "text"
      },
      "source": [
        "<a href=\"https://colab.research.google.com/github/sanakhalid1521/homework_projects4/blob/main/06_functions.ipynb\" target=\"_parent\"><img src=\"https://colab.research.google.com/assets/colab-badge.svg\" alt=\"Open In Colab\"/></a>"
      ]
    },
    {
      "cell_type": "code",
      "execution_count": 1,
      "metadata": {
        "colab": {
          "base_uri": "https://localhost:8080/"
        },
        "id": "XErcHvKnAuFR",
        "outputId": "51837a30-581e-4594-852b-54e8ec786b4f"
      },
      "outputs": [
        {
          "output_type": "stream",
          "name": "stdout",
          "text": [
            "00_averages\n",
            "avg_1: 5.0\n",
            "avg_2: 9.0\n",
            "final average: 7.0\n"
          ]
        }
      ],
      "source": [
        "print('00_averages')\n",
        "\n",
        "def average(a: float, b: float):\n",
        "    sum = a + b\n",
        "    return sum / 2\n",
        "\n",
        "def main():\n",
        "    # Calculate the average between two numbers\n",
        "    avg_1 = average(0, 10)\n",
        "    avg_2 = average(8, 10)\n",
        "\n",
        "    # Find the final average between avg_1 and avg_2\n",
        "    final = average(avg_1, avg_2)\n",
        "\n",
        "    # Print the results\n",
        "    print(\"avg_1:\", avg_1)\n",
        "    print(\"avg_2:\", avg_2)\n",
        "    print(\"final average:\", final)\n",
        "if __name__ == '__main__':\n",
        "    main()\n"
      ]
    },
    {
      "cell_type": "code",
      "source": [
        "print('01_chaotic_counting')\n",
        "\n",
        "import random\n",
        "\n",
        "DONE_LIKELIHOOD = 0.3  # Likelihood of `done()` returning True\n",
        "\n",
        "def chaotic_counting():\n",
        "    # Loop through numbers 1 to 10\n",
        "    for i in range(10):\n",
        "        curr_num = i + 1\n",
        "        # Call done() and check if it's True\n",
        "        if done():\n",
        "            return  # Exit the function early if done() returns True\n",
        "        print(curr_num)\n",
        "\n",
        "def done():\n",
        "    if random.random() < DONE_LIKELIHOOD:\n",
        "        return True\n",
        "    return False\n",
        "\n",
        "def main():\n",
        "    print(\"I'm going to count until 10 or until I feel like stopping, whichever comes first.\")\n",
        "    chaotic_counting()  # Start the chaotic counting\n",
        "    print(\"I'm done\")\n",
        "\n",
        "if __name__ == \"__main__\":\n",
        "    main()\n"
      ],
      "metadata": {
        "colab": {
          "base_uri": "https://localhost:8080/"
        },
        "id": "WpJb8u6aB4EW",
        "outputId": "802501ff-33b2-4e1f-9135-b3056e33826a"
      },
      "execution_count": 2,
      "outputs": [
        {
          "output_type": "stream",
          "name": "stdout",
          "text": [
            "01_chaotic_counting\n",
            "I'm going to count until 10 or until I feel like stopping, whichever comes first.\n",
            "1\n",
            "2\n",
            "3\n",
            "4\n",
            "5\n",
            "I'm done\n"
          ]
        }
      ]
    },
    {
      "cell_type": "code",
      "source": [
        "print('02_count_even')\n",
        "\n",
        "def count_even(lst):\n",
        "\n",
        "    count = 0  # Stores the count of even numbers in the list\n",
        "    for num in lst:  # Loop through the numbers in the list\n",
        "        if num % 2 == 0:  # If the current number in the list is even (divisible by 2)\n",
        "            count += 1  # Add one to our count!\n",
        "\n",
        "    print(count)\n",
        "\n",
        "def get_list_of_ints():\n",
        "\n",
        "    lst = []  # Make an empty list to store integers\n",
        "    user_input = input(\"Enter an integer or press enter to stop: \")  # Get user input for an integer\n",
        "    while user_input != \"\":  # While the user doesn't enter nothing...\n",
        "        lst.append(int(user_input))\n",
        "        user_input = input(\"Enter an integer or press enter to stop: \")\n",
        "\n",
        "    return lst\n",
        "\n",
        "def main():\n",
        "    lst = get_list_of_ints()\n",
        "    count_even(lst)\n",
        "\n",
        "if __name__ == '__main__':\n",
        "    main()\n"
      ],
      "metadata": {
        "colab": {
          "base_uri": "https://localhost:8080/"
        },
        "id": "YGIbAtZaCeA-",
        "outputId": "8bd36ab2-bbb0-4304-dc5c-fb3130b4bec7"
      },
      "execution_count": 3,
      "outputs": [
        {
          "output_type": "stream",
          "name": "stdout",
          "text": [
            "02_count_even\n",
            "Enter an integer or press enter to stop: 2\n",
            "Enter an integer or press enter to stop: 3\n",
            "Enter an integer or press enter to stop: 4\n",
            "Enter an integer or press enter to stop: 5\n",
            "Enter an integer or press enter to stop: 6\n",
            "Enter an integer or press enter to stop: \n",
            "3\n"
          ]
        }
      ]
    },
    {
      "cell_type": "code",
      "source": [
        "print('04_double')\n",
        "\n",
        "def double(num: int):\n",
        "    return num * 2\n",
        "\n",
        "def main():\n",
        "    num = int(input(\"Enter a number: \"))\n",
        "    num_times_2 = double(num)\n",
        "    print(\"Double that is\", num_times_2)\n",
        "\n",
        "if __name__ == '__main__':\n",
        "    main()\n"
      ],
      "metadata": {
        "colab": {
          "base_uri": "https://localhost:8080/"
        },
        "id": "cXkba6S8DQ7p",
        "outputId": "3e8531fc-a16e-44c8-ddff-ec1cd7b5b0a7"
      },
      "execution_count": 4,
      "outputs": [
        {
          "output_type": "stream",
          "name": "stdout",
          "text": [
            "04_double\n",
            "Enter a number: 3\n",
            "Double that is 6\n"
          ]
        }
      ]
    },
    {
      "cell_type": "code",
      "source": [
        "print('05_get_name')\n",
        "\n",
        "def get_name():\n",
        "    return \"Sana\"\n",
        "\n",
        "def main():\n",
        "    name = get_name()  # Retrieve the name by calling get_name()\n",
        "    print(\"Howdy\", name, \"! 🤠\")\n",
        "\n",
        "if __name__ == '__main__':\n",
        "    main()\n"
      ],
      "metadata": {
        "colab": {
          "base_uri": "https://localhost:8080/"
        },
        "id": "6MTwrHN_ECrT",
        "outputId": "258deee8-67e5-43b6-9337-5502c15fea8e"
      },
      "execution_count": 5,
      "outputs": [
        {
          "output_type": "stream",
          "name": "stdout",
          "text": [
            "05_get_name\n",
            "Howdy Sana ! 🤠\n"
          ]
        }
      ]
    },
    {
      "cell_type": "code",
      "source": [
        "print('06_is_odd')\n",
        "\n",
        "def main():\n",
        "    for i in range(10, 20):  # Loop from 10 to 19\n",
        "        if is_odd(i):\n",
        "            print(f'{i} odd')\n",
        "        else:\n",
        "            print(f'{i} even')\n",
        "\n",
        "def is_odd(value: int):\n",
        "\n",
        "    remainder = value % 2  # 0 if value is divisible by 2, 1 if it isn't\n",
        "    return remainder == 1\n",
        "if __name__ == '__main__':\n",
        "    main()\n"
      ],
      "metadata": {
        "colab": {
          "base_uri": "https://localhost:8080/"
        },
        "id": "LDWxSu7VEv3a",
        "outputId": "1a3e51f3-793b-4bfc-d47a-325daadb6462"
      },
      "execution_count": 6,
      "outputs": [
        {
          "output_type": "stream",
          "name": "stdout",
          "text": [
            "06_is_odd\n",
            "10 even\n",
            "11 odd\n",
            "12 even\n",
            "13 odd\n",
            "14 even\n",
            "15 odd\n",
            "16 even\n",
            "17 odd\n",
            "18 even\n",
            "19 odd\n"
          ]
        }
      ]
    },
    {
      "cell_type": "code",
      "source": [
        "print('07_print_divisor')\n",
        "\n",
        "def print_divisors(num: int):\n",
        "    print(f\"Here are the divisors of {num}\")\n",
        "    for i in range(1, num + 1):\n",
        "        if num % i == 0:  # Check if i is a divisor of num\n",
        "            print(i)\n",
        "\n",
        "def main():\n",
        "    num = int(input(\"Enter a number: \"))  # Prompt user for a number\n",
        "    print_divisors(num)\n",
        "\n",
        "if __name__ == '__main__':\n",
        "    main()\n"
      ],
      "metadata": {
        "colab": {
          "base_uri": "https://localhost:8080/"
        },
        "id": "-9_YvIOtFXfG",
        "outputId": "b1961274-9cd2-41db-abfa-e58b81c60ab1"
      },
      "execution_count": 7,
      "outputs": [
        {
          "output_type": "stream",
          "name": "stdout",
          "text": [
            "07_print_divisor\n",
            "Enter a number: 12\n",
            "Here are the divisors of 12\n",
            "1\n",
            "2\n",
            "3\n",
            "4\n",
            "6\n",
            "12\n"
          ]
        }
      ]
    },
    {
      "cell_type": "code",
      "source": [
        "print('08_print_multiple')\n",
        "\n",
        "def print_multiple(message: str, repeats: int):\n",
        "\n",
        "    for i in range(repeats):\n",
        "        print(message)\n",
        "\n",
        "def main():\n",
        "    message = input(\"Please type a message: \")\n",
        "    repeats = int(input(\"Enter a number of times to repeat your message: \"))\n",
        "\n",
        "    print_multiple(message, repeats)\n",
        "\n",
        "if __name__ == '__main__':\n",
        "    main()\n"
      ],
      "metadata": {
        "colab": {
          "base_uri": "https://localhost:8080/"
        },
        "id": "f6CRC1l-GAht",
        "outputId": "1cfc8952-2f5c-405f-fc0f-38f1e3cdf7b8"
      },
      "execution_count": 9,
      "outputs": [
        {
          "output_type": "stream",
          "name": "stdout",
          "text": [
            "08_print_multiple\n",
            "Please type a message: great sana\n",
            "Enter a number of times to repeat your message: 5\n",
            "great sana\n",
            "great sana\n",
            "great sana\n",
            "great sana\n",
            "great sana\n"
          ]
        }
      ]
    },
    {
      "cell_type": "code",
      "source": [
        "print('09_sentence_generator')\n",
        "\n",
        "def make_sentence(word, part_of_speech):\n",
        "\n",
        "    if part_of_speech == 0:\n",
        "        # noun\n",
        "        print(\"I am excited to add this \" + word + \" to my vast collection of them!\")\n",
        "    elif part_of_speech == 1:\n",
        "        # verb\n",
        "        print(\"It's so nice outside today it makes me want to \" + word + \"!\")\n",
        "    elif part_of_speech == 2:\n",
        "        # adjective\n",
        "        print(\"Looking out my window, the sky is big and \" + word + \"!\")\n",
        "    else:\n",
        "        # part_of_speech is invalid (not 0, 1, or 2)\n",
        "        print(\"Part of speech must be 0, 1, or 2! Can't make a sentence.\")\n",
        "\n",
        "def main():\n",
        "    # Prompt the user for a word\n",
        "    word = input(\"Please type a noun, verb, or adjective: \")\n",
        "\n",
        "    # Prompt for part_of_speech (0 for noun, 1 for verb, 2 for adjective)\n",
        "    print(\"Is this a noun, verb, or adjective?\")\n",
        "    while True:\n",
        "        try:\n",
        "            part_of_speech = int(input(\"Type 0 for noun, 1 for verb, 2 for adjective: \"))\n",
        "            if part_of_speech in [0, 1, 2]:\n",
        "                break  # Exit the loop if the input is valid\n",
        "            else:\n",
        "                print(\"Please enter 0, 1, or 2 to specify the part of speech.\")\n",
        "        except ValueError:\n",
        "            print(\"Invalid input. Please enter an integer (0, 1, or 2).\")\n",
        "\n",
        "    make_sentence(word, part_of_speech)\n",
        "if __name__ == '__main__':\n",
        "    main()\n"
      ],
      "metadata": {
        "colab": {
          "base_uri": "https://localhost:8080/"
        },
        "id": "oUzfvjQ0G8f5",
        "outputId": "ea0f0360-76a0-4235-e3b0-44cae2d21b31"
      },
      "execution_count": 13,
      "outputs": [
        {
          "output_type": "stream",
          "name": "stdout",
          "text": [
            "09_sentence_generator\n",
            "Please type a noun, verb, or adjective: noun\n",
            "Is this a noun, verb, or adjective?\n",
            "Type 0 for noun, 1 for verb, 2 for adjective: verb\n",
            "Invalid input. Please enter an integer (0, 1, or 2).\n",
            "Type 0 for noun, 1 for verb, 2 for adjective: adjective\n",
            "Invalid input. Please enter an integer (0, 1, or 2).\n",
            "Type 0 for noun, 1 for verb, 2 for adjective: 1\n",
            "It's so nice outside today it makes me want to noun!\n"
          ]
        }
      ]
    },
    {
      "cell_type": "code",
      "source": [
        "print('10_print_ones_digit')\n",
        "\n",
        "def print_ones_digit(num):\n",
        "    print(\"The ones digit is\", num % 10)\n",
        "\n",
        "def main():\n",
        "    num = int(input(\"Enter a number: \"))\n",
        "    print_ones_digit(num)\n",
        "\n",
        "if __name__ == '__main__':\n",
        "    main()\n"
      ],
      "metadata": {
        "colab": {
          "base_uri": "https://localhost:8080/"
        },
        "id": "Vl6sjCejI19u",
        "outputId": "bfad6f11-20e9-4d65-c43c-a76afd7893fc"
      },
      "execution_count": 14,
      "outputs": [
        {
          "output_type": "stream",
          "name": "stdout",
          "text": [
            "10_print_ones_digit\n",
            "Enter a number: 23\n",
            "The ones digit is 3\n"
          ]
        }
      ]
    }
  ]
}