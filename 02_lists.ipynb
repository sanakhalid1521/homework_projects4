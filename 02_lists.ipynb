{
  "nbformat": 4,
  "nbformat_minor": 0,
  "metadata": {
    "colab": {
      "provenance": [],
      "authorship_tag": "ABX9TyOVFVLrDDYq38ZMd1LISBsk",
      "include_colab_link": true
    },
    "kernelspec": {
      "name": "python3",
      "display_name": "Python 3"
    },
    "language_info": {
      "name": "python"
    }
  },
  "cells": [
    {
      "cell_type": "markdown",
      "metadata": {
        "id": "view-in-github",
        "colab_type": "text"
      },
      "source": [
        "<a href=\"https://colab.research.google.com/github/sanakhalid1521/homework_projects4/blob/main/02_lists.ipynb\" target=\"_parent\"><img src=\"https://colab.research.google.com/assets/colab-badge.svg\" alt=\"Open In Colab\"/></a>"
      ]
    },
    {
      "cell_type": "code",
      "execution_count": 2,
      "metadata": {
        "colab": {
          "base_uri": "https://localhost:8080/"
        },
        "id": "yoxPob-DN31o",
        "outputId": "08da7cc2-2e66-4969-f73a-b79b97f745c7"
      },
      "outputs": [
        {
          "output_type": "stream",
          "name": "stdout",
          "text": [
            "01_add_many_number\n",
            "Enter numbers separated by spaces: 2 4 5 6 4 3\n",
            "The sum of the numbers is: 24\n"
          ]
        }
      ],
      "source": [
        "print('01_add_many_number')\n",
        "\n",
        "def add_many_numbers(numbers) -> int:\n",
        "\n",
        "    total_so_far: int = 0\n",
        "    for number in numbers:\n",
        "        total_so_far += number\n",
        "\n",
        "    return total_so_far\n",
        "\n",
        "def main():\n",
        "    # Ask the user to input numbers separated by spaces\n",
        "    user_input: str = input(\"Enter numbers separated by spaces: \")\n",
        "\n",
        "    numbers: list[int] = [int(num) for num in user_input.split()]\n",
        "\n",
        "    # Find the sum of the list\n",
        "    sum_of_numbers: int = add_many_numbers(numbers)\n",
        "\n",
        "    # Print the result\n",
        "    print(\"The sum of the numbers is:\", sum_of_numbers)\n",
        "\n",
        "if __name__ == '__main__':\n",
        "    main()\n",
        "\n"
      ]
    },
    {
      "cell_type": "code",
      "source": [
        "print('02_double_list')\n",
        "\n",
        "def main():\n",
        "    # Get input from the user and split it into a list of numbers\n",
        "    user_input = input(\"Enter numbers separated by spaces: \")\n",
        "    numbers = [int(num) for num in user_input.split()]  # Convert each input into an integer and store in a list\n",
        "\n",
        "    # Loop through the list and double each element\n",
        "    for i in range(len(numbers)):\n",
        "        numbers[i] = numbers[i] * 2\n",
        "\n",
        "    # Print the updated list\n",
        "    print(\"Doubled numbers:\", numbers)\n",
        "\n",
        "if __name__ == '__main__':\n",
        "    main()\n",
        "\n"
      ],
      "metadata": {
        "colab": {
          "base_uri": "https://localhost:8080/"
        },
        "id": "lwL4lj4tPdyj",
        "outputId": "0bbf5eb0-6b33-48f7-e414-bb6c56825fb2"
      },
      "execution_count": 4,
      "outputs": [
        {
          "output_type": "stream",
          "name": "stdout",
          "text": [
            "02_double_list\n",
            "Enter numbers separated by spaces: 2 4 5 6 7 8\n",
            "Doubled numbers: [4, 8, 10, 12, 14, 16]\n"
          ]
        }
      ]
    },
    {
      "cell_type": "code",
      "source": [
        "print('04_flowing_with_data_structures')\n",
        "\n",
        "def add_three_copies(my_list, data):\n",
        "    for i in range(3):\n",
        "        my_list.append(data)\n",
        "\n",
        "def main():\n",
        "    message = input(\"Enter a message to copy: \")\n",
        "    my_list = []\n",
        "    print(\"List before:\", my_list)\n",
        "    add_three_copies(my_list, message)\n",
        "    print(\"List after:\", my_list)\n",
        "\n",
        "if __name__ == \"__main__\":\n",
        "    main()\n"
      ],
      "metadata": {
        "colab": {
          "base_uri": "https://localhost:8080/"
        },
        "id": "AfwReAKEXccC",
        "outputId": "d7644ff4-1cd8-4576-f06e-cccab4bbc5ef"
      },
      "execution_count": 6,
      "outputs": [
        {
          "output_type": "stream",
          "name": "stdout",
          "text": [
            "04_flowing_with_data_structures\n",
            "Enter a message to copy: good\n",
            "List before: []\n",
            "List after: ['good', 'good', 'good']\n"
          ]
        }
      ]
    },
    {
      "cell_type": "code",
      "source": [
        "print('05_get_first_element')\n",
        "\n",
        "def get_first_element(lst):\n",
        "\n",
        "    print(lst[0])\n",
        "\n",
        "def get_lst():\n",
        "\n",
        "    lst = []\n",
        "    elem: str = input(\"Please enter an element of the list or press enter to stop. \")\n",
        "    while elem != \"\":\n",
        "        lst.append(elem)\n",
        "        elem = input(\"Please enter an element of the list or press enter to stop. \")\n",
        "    return lst\n",
        "\n",
        "def main():\n",
        "    lst = get_lst()\n",
        "    get_first_element(lst)\n",
        "\n",
        "if __name__ == '__main__':\n",
        "    main()\n"
      ],
      "metadata": {
        "colab": {
          "base_uri": "https://localhost:8080/"
        },
        "id": "5DEDKvnIYAmn",
        "outputId": "e10c2fb9-85d3-4fdf-87be-aceb5d86a854"
      },
      "execution_count": 7,
      "outputs": [
        {
          "output_type": "stream",
          "name": "stdout",
          "text": [
            "05_get_first_element\n",
            "Please enter an element of the list or press enter to stop. apple\n",
            "Please enter an element of the list or press enter to stop. banana\n",
            "Please enter an element of the list or press enter to stop. mango\n",
            "Please enter an element of the list or press enter to stop. \n",
            "apple\n"
          ]
        }
      ]
    },
    {
      "cell_type": "code",
      "source": [
        "print('06_get_last_element')\n",
        "\n",
        "def get_last_element(lst):\n",
        "    \"\"\"\n",
        "    Prints the last element of the provided list.\n",
        "    \"\"\"\n",
        "    # Option 1: Using length of the list\n",
        "    print(lst[len(lst) - 1])\n",
        "\n",
        "    # Option 2 (also works): print(lst[-1])\n",
        "\n",
        "\n",
        "def get_lst():\n",
        "    \"\"\"\n",
        "    Prompts the user to enter one element of the list at a time and returns the resulting list.\n",
        "    \"\"\"\n",
        "    lst = []\n",
        "    elem = input(\"Please enter an element of the list or press enter to stop: \")\n",
        "    while elem != \"\":\n",
        "        lst.append(elem)\n",
        "        elem = input(\"Please enter an element of the list or press enter to stop: \")\n",
        "    return lst\n",
        "\n",
        "\n",
        "def main():\n",
        "    lst = get_lst()\n",
        "    get_last_element(lst)\n",
        "\n",
        "\n",
        "if __name__ == '__main__':\n",
        "    main()\n"
      ],
      "metadata": {
        "colab": {
          "base_uri": "https://localhost:8080/"
        },
        "id": "oh3LD6iBYv3U",
        "outputId": "18e033ec-658d-4d3f-db3e-912abeba891a"
      },
      "execution_count": 8,
      "outputs": [
        {
          "output_type": "stream",
          "name": "stdout",
          "text": [
            "06_get_last_element\n",
            "Please enter an element of the list or press enter to stop: apple\n",
            "Please enter an element of the list or press enter to stop: banana\n",
            "Please enter an element of the list or press enter to stop: cherry\n",
            "Please enter an element of the list or press enter to stop: kiwi\n",
            "Please enter an element of the list or press enter to stop: \n",
            "kiwi\n"
          ]
        }
      ]
    },
    {
      "cell_type": "code",
      "source": [
        "print('07_get_list')\n",
        "\n",
        "def main():\n",
        "    lst = []  # Create an empty list\n",
        "\n",
        "    val = input(\"Enter a value: \")  # Prompt user for input\n",
        "    while val:  # Continue as long as input is not empty\n",
        "        lst.append(val)  # Add the input to the list\n",
        "        val = input(\"Enter a value: \")  # Ask for the next value\n",
        "\n",
        "    print(\"Here's the list:\", lst)\n",
        "\n",
        "\n",
        "# Required line to call main\n",
        "if __name__ == '__main__':\n",
        "    main()\n"
      ],
      "metadata": {
        "colab": {
          "base_uri": "https://localhost:8080/"
        },
        "id": "WcwSFerfZfh7",
        "outputId": "a7cf0c46-e17d-45bc-ec15-1475fd29329f"
      },
      "execution_count": 9,
      "outputs": [
        {
          "output_type": "stream",
          "name": "stdout",
          "text": [
            "07_get_list\n",
            "Enter a value: 6\n",
            "Enter a value: 6\n",
            "Enter a value: 5\n",
            "Enter a value: 4\n",
            "Enter a value: \n",
            "Here's the list: ['6', '6', '5', '4']\n"
          ]
        }
      ]
    },
    {
      "cell_type": "code",
      "source": [
        "print('08_shorten')\n",
        "\n",
        "MAX_LENGTH: int = 3\n",
        "\n",
        "def shorten(lst):\n",
        "    while len(lst) > MAX_LENGTH:\n",
        "        last_elem = lst.pop()  # Remove the last element\n",
        "        print(last_elem)       # Print the removed element\n",
        "\n",
        "def get_lst():\n",
        "\n",
        "    lst = []\n",
        "    elem = input(\"Please enter an element of the list or press enter to stop. \")\n",
        "    while elem != \"\":\n",
        "        lst.append(elem)\n",
        "        elem = input(\"Please enter an element of the list or press enter to stop. \")\n",
        "    return lst\n",
        "\n",
        "def main():\n",
        "    lst = get_lst()\n",
        "    shorten(lst)\n",
        "\n",
        "if __name__ == '__main__':\n",
        "    main()\n"
      ],
      "metadata": {
        "colab": {
          "base_uri": "https://localhost:8080/"
        },
        "id": "-7eQGQNFaNo2",
        "outputId": "8b4bcced-af6d-4221-c404-6db616f4acbc"
      },
      "execution_count": 10,
      "outputs": [
        {
          "output_type": "stream",
          "name": "stdout",
          "text": [
            "08_shorten\n",
            "Please enter an element of the list or press enter to stop. 4\n",
            "Please enter an element of the list or press enter to stop. 5\n",
            "Please enter an element of the list or press enter to stop. 3\n",
            "Please enter an element of the list or press enter to stop. 3\n",
            "Please enter an element of the list or press enter to stop. 2\n",
            "Please enter an element of the list or press enter to stop. 4\n",
            "Please enter an element of the list or press enter to stop. \n",
            "4\n",
            "2\n",
            "3\n"
          ]
        }
      ]
    }
  ]
}