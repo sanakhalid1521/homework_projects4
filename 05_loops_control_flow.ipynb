{
  "nbformat": 4,
  "nbformat_minor": 0,
  "metadata": {
    "colab": {
      "provenance": [],
      "authorship_tag": "ABX9TyOsAkq8FV5X3DT/6L1c6T3x",
      "include_colab_link": true
    },
    "kernelspec": {
      "name": "python3",
      "display_name": "Python 3"
    },
    "language_info": {
      "name": "python"
    }
  },
  "cells": [
    {
      "cell_type": "markdown",
      "metadata": {
        "id": "view-in-github",
        "colab_type": "text"
      },
      "source": [
        "<a href=\"https://colab.research.google.com/github/sanakhalid1521/homework_projects4/blob/main/05_loops_control_flow.ipynb\" target=\"_parent\"><img src=\"https://colab.research.google.com/assets/colab-badge.svg\" alt=\"Open In Colab\"/></a>"
      ]
    },
    {
      "cell_type": "code",
      "execution_count": 5,
      "metadata": {
        "id": "oq3GAvldxh1p",
        "colab": {
          "base_uri": "https://localhost:8080/"
        },
        "outputId": "2a572a6a-16dc-41e1-ea09-efc272879e2e"
      },
      "outputs": [
        {
          "output_type": "stream",
          "name": "stdout",
          "text": [
            "00_guess_my_number\n",
            "I am thinking of a number between 1 and 99...\n",
            "Enter a guess: 1\n",
            "Your guess is too low\n",
            "\n",
            "Enter a guess: 2\n",
            "Your guess is too low\n",
            "\n",
            "Enter a guess: 3\n",
            "Your guess is too low\n",
            "\n",
            "Enter a guess: 4\n",
            "Your guess is too low\n",
            "\n",
            "Enter a guess: 5\n",
            "Your guess is too low\n",
            "\n",
            "Enter a guess: 6\n",
            "Your guess is too low\n",
            "\n",
            "Enter a guess: 7\n",
            "Your guess is too low\n",
            "\n",
            "Enter a guess: 8\n",
            "🎉 Congrats! The number was: 8\n"
          ]
        }
      ],
      "source": [
        "print('00_guess_my_number')\n",
        "\n",
        "import random\n",
        "\n",
        "def main():\n",
        "    secret_number = random.randint(1, 99)\n",
        "    print(\"I am thinking of a number between 1 and 99...\")\n",
        "\n",
        "    while True:\n",
        "        try:\n",
        "            guess = int(input(\"Enter a guess: \"))\n",
        "        except ValueError:\n",
        "            print(\"⚠️ Please enter a valid number.\")\n",
        "            continue\n",
        "\n",
        "        if guess < secret_number:\n",
        "            print(\"Your guess is too low\\n\")\n",
        "        elif guess > secret_number:\n",
        "            print(\"Your guess is too high\\n\")\n",
        "        else:\n",
        "            print(\"🎉 Congrats! The number was:\", secret_number)\n",
        "            break\n",
        "\n",
        "if __name__ == '__main__':\n",
        "    main()"
      ]
    },
    {
      "cell_type": "code",
      "source": [
        "print('01_fibonacci')\n",
        "\n",
        "MAX_TERM_VALUE = 10000  # Maximum value for Fibonacci terms\n",
        "\n",
        "def main():\n",
        "    curr_term = 0  # The 0th Fibonacci number\n",
        "    next_term = 1  # The 1st Fibonacci number\n",
        "\n",
        "    while curr_term <= MAX_TERM_VALUE:\n",
        "        print(curr_term, end=\" \")  # Print the current term\n",
        "        term_after_next = curr_term + next_term\n",
        "        curr_term = next_term  # Move to the next term\n",
        "        next_term = term_after_next\n",
        "if __name__ == '__main__':\n",
        "    main()\n"
      ],
      "metadata": {
        "colab": {
          "base_uri": "https://localhost:8080/"
        },
        "id": "-GQ9T2lS6soG",
        "outputId": "a8ecd75a-9107-401f-d413-127470522351"
      },
      "execution_count": 6,
      "outputs": [
        {
          "output_type": "stream",
          "name": "stdout",
          "text": [
            "01_fibonacci\n",
            "0 1 1 2 3 5 8 13 21 34 55 89 144 233 377 610 987 1597 2584 4181 6765 "
          ]
        }
      ]
    },
    {
      "cell_type": "code",
      "source": [
        "print('02_print_events')\n",
        "\n",
        "def main():\n",
        "\n",
        "    for i in range(20):\n",
        "        print(i * 2)  # Multiply the loop index by 2 to get even numbers\n",
        "\n",
        "if __name__ == \"__main__\":\n",
        "    main()\n"
      ],
      "metadata": {
        "colab": {
          "base_uri": "https://localhost:8080/"
        },
        "id": "-FTL75Gk7xKC",
        "outputId": "1c32d544-9c00-4e23-e9aa-5cfc7bd9a87c"
      },
      "execution_count": 7,
      "outputs": [
        {
          "output_type": "stream",
          "name": "stdout",
          "text": [
            "02_print_events\n",
            "0\n",
            "2\n",
            "4\n",
            "6\n",
            "8\n",
            "10\n",
            "12\n",
            "14\n",
            "16\n",
            "18\n",
            "20\n",
            "22\n",
            "24\n",
            "26\n",
            "28\n",
            "30\n",
            "32\n",
            "34\n",
            "36\n",
            "38\n"
          ]
        }
      ]
    },
    {
      "cell_type": "code",
      "source": [
        "print('03_wholesome_machine')\n",
        "\n",
        "AFFIRMATION: str = \"I am capable of doing anything I put my mind to.\"\n",
        "\n",
        "def main():\n",
        "    print(\"Please type the following affirmation: \" + AFFIRMATION)\n",
        "\n",
        "    user_feedback = input()\n",
        "    while user_feedback != AFFIRMATION:\n",
        "\n",
        "        print(\"That was not the affirmation.\")\n",
        "        print(\"Please type the following affirmation: \" + AFFIRMATION)\n",
        "        user_feedback = input()\n",
        "\n",
        "    print(\"That's right! :)\")\n",
        "\n",
        "if __name__ == '__main__':\n",
        "    main()\n"
      ],
      "metadata": {
        "colab": {
          "base_uri": "https://localhost:8080/"
        },
        "id": "dKyv9JxV9aNx",
        "outputId": "75aa2e9d-3ad4-4207-b094-3db16c35d59c"
      },
      "execution_count": 8,
      "outputs": [
        {
          "output_type": "stream",
          "name": "stdout",
          "text": [
            "03_wholesome_machine\n",
            "Please type the following affirmation: I am capable of doing anything I put my mind to.\n",
            "i\n",
            "That was not the affirmation.\n",
            "Please type the following affirmation: I am capable of doing anything I put my mind to.\n",
            "I am capable of doing anything I put my mind to. Hmmm, That was not the affirmation.\n",
            "That was not the affirmation.\n",
            "Please type the following affirmation: I am capable of doing anything I put my mind to.\n",
            "I am capable of doing anything I put my mind to.\n",
            "That's right! :)\n"
          ]
        }
      ]
    },
    {
      "cell_type": "code",
      "source": [
        "print('04_liftoff')\n",
        "\n",
        "def main():\n",
        "    # Countdown from 10 to 1\n",
        "    for i in range(10, 0, -1):\n",
        "        print(i)\n",
        "\n",
        "    # Print \"Liftoff!\" after the countdown\n",
        "    print(\"Liftoff!\")\n",
        "\n",
        "# This provided line is required to run the main function\n",
        "if __name__ == '__main__':\n",
        "    main()\n"
      ],
      "metadata": {
        "colab": {
          "base_uri": "https://localhost:8080/"
        },
        "id": "WydT_giR-qF_",
        "outputId": "8081c6fc-050f-4e85-b7c2-ed70ebd9a457"
      },
      "execution_count": 9,
      "outputs": [
        {
          "output_type": "stream",
          "name": "stdout",
          "text": [
            "04_liftoff\n",
            "10\n",
            "9\n",
            "8\n",
            "7\n",
            "6\n",
            "5\n",
            "4\n",
            "3\n",
            "2\n",
            "1\n",
            "Liftoff!\n"
          ]
        }
      ]
    },
    {
      "cell_type": "code",
      "source": [
        "print('05_double_it')\n",
        "\n",
        "def main():\n",
        "    # Ask the user to enter a number\n",
        "    curr_value = int(input(\"Enter a number: \"))\n",
        "\n",
        "    # Loop until the value is 100 or greater\n",
        "    while curr_value < 100:\n",
        "        # Double the current value\n",
        "        curr_value *= 2\n",
        "        print(curr_value, end=\" \")\n",
        "\n",
        "if __name__ == '__main__':\n",
        "    main()\n"
      ],
      "metadata": {
        "colab": {
          "base_uri": "https://localhost:8080/"
        },
        "id": "csjkKN5r_bgs",
        "outputId": "87997c2b-41c1-445b-879e-6c3a7ec84c2e"
      },
      "execution_count": 11,
      "outputs": [
        {
          "output_type": "stream",
          "name": "stdout",
          "text": [
            "05_double_it\n",
            "Enter a number: 6\n",
            "12 24 48 96 192 "
          ]
        }
      ]
    }
  ]
}