{
  "nbformat": 4,
  "nbformat_minor": 0,
  "metadata": {
    "colab": {
      "provenance": [],
      "authorship_tag": "ABX9TyOoagt6O+QKhA5oBSFAx5Ko",
      "include_colab_link": true
    },
    "kernelspec": {
      "name": "python3",
      "display_name": "Python 3"
    },
    "language_info": {
      "name": "python"
    }
  },
  "cells": [
    {
      "cell_type": "markdown",
      "metadata": {
        "id": "view-in-github",
        "colab_type": "text"
      },
      "source": [
        "<a href=\"https://colab.research.google.com/github/sanakhalid1521/homework_projects4/blob/main/01_basics.ipynb\" target=\"_parent\"><img src=\"https://colab.research.google.com/assets/colab-badge.svg\" alt=\"Open In Colab\"/></a>"
      ]
    },
    {
      "cell_type": "code",
      "execution_count": 4,
      "metadata": {
        "colab": {
          "base_uri": "https://localhost:8080/"
        },
        "id": "lTcyTzpk_wVH",
        "outputId": "6ce9d295-11ca-4710-8368-130d1764a04d"
      },
      "outputs": [
        {
          "output_type": "stream",
          "name": "stdout",
          "text": [
            "00_joke_bot\n",
            "Kya chahiye aapko? joke\n",
            "Ek din ek programmer doctor ke paas gaya. Doctor: Kya masla hai? Programmer: Mujhe recursion ka problem hai. Doctor: Kya matlab? Programmer: Har dafa jab sochta hoon, wapas wahi soch aa jaati hai!\n"
          ]
        }
      ],
      "source": [
        "print('00_joke_bot')\n",
        "\n",
        "import random\n",
        "\n",
        "PROMPT: str = \"Kya chahiye aapko? \"\n",
        "SORRY: str = \"Sorry, main sirf jokes sunata hoon!\"\n",
        "\n",
        "JOKES = [\n",
        "    \"Aik programmer apni biwi ko kehta hai: 'market jaa kar aik bottle shampoo le aana, aur agar sabzi milay to le aana.' Biwi wapas aati hai ek bottle shampoo aur aik truck bhar sabziyon ke sath.\",\n",
        "    \"Aik developer ne dua maangi: 'Ya Allah meri zindagi mein sukoon dey.' Allah ne uska Wi-Fi disconnect kar diya.\",\n",
        "    \"Teacher: Tum homework kyun nahi kartay? Student: Ma’am, assignments asynchronous thay… to maine bhi unko ignore kar diya asynchronously.\",\n",
        "    \"Ek din ek programmer doctor ke paas gaya. Doctor: Kya masla hai? Programmer: Mujhe recursion ka problem hai. Doctor: Kya matlab? Programmer: Har dafa jab sochta hoon, wapas wahi soch aa jaati hai!\",\n",
        "]\n",
        "\n",
        "def main():\n",
        "    user_input = input(PROMPT)\n",
        "\n",
        "    if user_input.strip().lower() == \"joke\":\n",
        "        joke = random.choice(JOKES)\n",
        "        print(joke)\n",
        "    else:\n",
        "        print(SORRY)\n",
        "\n",
        "if __name__ == '__main__':\n",
        "    main()\n"
      ]
    },
    {
      "cell_type": "code",
      "source": [
        "print('01_double_it')\n",
        "\n",
        "def main():\n",
        "\n",
        "    curr_value = int(input(\"Enter a number: \"))\n",
        "\n",
        "    while curr_value < 100:\n",
        "        print(curr_value, end=\" \")\n",
        "        curr_value = curr_value * 2  # Double the value\n",
        "\n",
        "    print(curr_value)\n",
        "\n",
        "if __name__ == '__main__':\n",
        "    main()\n",
        "\n"
      ],
      "metadata": {
        "colab": {
          "base_uri": "https://localhost:8080/"
        },
        "id": "QgXKLNCvC2UE",
        "outputId": "8dac6204-4111-468e-f0e7-634c01e9bb54"
      },
      "execution_count": 9,
      "outputs": [
        {
          "output_type": "stream",
          "name": "stdout",
          "text": [
            "01_double_it\n",
            "Enter a number: 5\n",
            "5 10 20 40 80 160\n"
          ]
        }
      ]
    },
    {
      "cell_type": "code",
      "source": [
        "print('02_liftoff')\n",
        "\n",
        "def main():\n",
        "    # Countdown from 10 to 1\n",
        "    for i in range(10, 0, -1):\n",
        "        print(i, end=\" \")\n",
        "\n",
        "    print(\"Liftoff!\")\n",
        "\n",
        "if __name__ == '__main__':\n",
        "    main()\n"
      ],
      "metadata": {
        "colab": {
          "base_uri": "https://localhost:8080/"
        },
        "id": "GMIVvNhyFG1i",
        "outputId": "d194dd20-0e82-48af-f4e9-8f3693c8443a"
      },
      "execution_count": 10,
      "outputs": [
        {
          "output_type": "stream",
          "name": "stdout",
          "text": [
            "02_liftoff\n",
            "10 9 8 7 6 5 4 3 2 1 Liftoff!\n"
          ]
        }
      ]
    },
    {
      "cell_type": "code",
      "source": [
        "print('03_guess_my_number')\n",
        "\n",
        "import random\n",
        "\n",
        "def main():\n",
        "    # Generate the secret number at random!\n",
        "    secret_number: int = random.randint(1, 99)\n",
        "\n",
        "    print(\"I am thinking of a number between 1 and 99...\")\n",
        "\n",
        "    # Get user's guess\n",
        "    guess = int(input(\"Enter a guess: \"))\n",
        "\n",
        "    while guess != secret_number:\n",
        "        if guess < secret_number:\n",
        "            print(\"Your guess is too low\")\n",
        "        else:\n",
        "            print(\"Your guess is too high\")\n",
        "\n",
        "        print()\n",
        "        guess = int(input(\"Enter a new guess: \"))\n",
        "\n",
        "    print(\"Congrats! The number was: \" + str(secret_number))\n",
        "\n",
        "if __name__ == '__main__':\n",
        "    main()\n"
      ],
      "metadata": {
        "colab": {
          "base_uri": "https://localhost:8080/"
        },
        "id": "vvhD4MKtFn05",
        "outputId": "9d7a0bc4-c9c1-419e-a348-0bab08254b33"
      },
      "execution_count": 11,
      "outputs": [
        {
          "output_type": "stream",
          "name": "stdout",
          "text": [
            "03_guess_my_number\n",
            "I am thinking of a number between 1 and 99...\n",
            "Enter a guess: 2\n",
            "Your guess is too low\n",
            "\n",
            "Enter a new guess: 5\n",
            "Your guess is too low\n",
            "\n",
            "Enter a new guess: 50\n",
            "Your guess is too high\n",
            "\n",
            "Enter a new guess: 40\n",
            "Congrats! The number was: 40\n"
          ]
        }
      ]
    },
    {
      "cell_type": "code",
      "source": [
        "print('04_random_numbers')\n",
        "\n",
        "import random\n",
        "\n",
        "N_NUMBERS: int = 10\n",
        "MIN_VALUE: int = 1\n",
        "MAX_VALUE: int = 100\n",
        "\n",
        "def main():\n",
        "\n",
        "    for _ in range(N_NUMBERS):\n",
        "        print(random.randint(MIN_VALUE, MAX_VALUE), end=\" \")\n",
        "\n",
        "if __name__ == '__main__':\n",
        "    main()\n"
      ],
      "metadata": {
        "colab": {
          "base_uri": "https://localhost:8080/"
        },
        "id": "VAtusW9gG8Fy",
        "outputId": "4c603a06-48da-4f6a-d0eb-f558f9bf2117"
      },
      "execution_count": 12,
      "outputs": [
        {
          "output_type": "stream",
          "name": "stdout",
          "text": [
            "04_random_numbers\n",
            "34 30 46 61 32 43 18 20 7 46 "
          ]
        }
      ]
    }
  ]
}