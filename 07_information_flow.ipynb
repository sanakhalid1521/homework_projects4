{
  "nbformat": 4,
  "nbformat_minor": 0,
  "metadata": {
    "colab": {
      "provenance": [],
      "authorship_tag": "ABX9TyOe2vRCD4mnMRysBVVWhqsz",
      "include_colab_link": true
    },
    "kernelspec": {
      "name": "python3",
      "display_name": "Python 3"
    },
    "language_info": {
      "name": "python"
    }
  },
  "cells": [
    {
      "cell_type": "markdown",
      "metadata": {
        "id": "view-in-github",
        "colab_type": "text"
      },
      "source": [
        "<a href=\"https://colab.research.google.com/github/sanakhalid1521/homework_projects4/blob/main/07_information_flow.ipynb\" target=\"_parent\"><img src=\"https://colab.research.google.com/assets/colab-badge.svg\" alt=\"Open In Colab\"/></a>"
      ]
    },
    {
      "cell_type": "code",
      "execution_count": 3,
      "metadata": {
        "colab": {
          "base_uri": "https://localhost:8080/"
        },
        "id": "yUxdCZHgKcba",
        "outputId": "443b417a-7f0e-439c-8bd4-ea31a50becf4"
      },
      "outputs": [
        {
          "output_type": "stream",
          "name": "stdout",
          "text": [
            "00_choosing_returns\n",
            "How old is this person?: 20\n",
            "True\n"
          ]
        }
      ],
      "source": [
        "print('00_choosing_returns')\n",
        "\n",
        "ADULT_AGE = 18  # U.S. age\n",
        "\n",
        "def is_adult(age: int):\n",
        "    if age >= ADULT_AGE:\n",
        "        return True\n",
        "    return False\n",
        "\n",
        "def main():\n",
        "    age = int(input(\"How old is this person?: \"))\n",
        "    print(is_adult(age))\n",
        "\n",
        "if __name__ == \"__main__\":\n",
        "    main()\n"
      ]
    },
    {
      "cell_type": "code",
      "source": [
        "print('01_greetings')\n",
        "\n",
        "def main():\n",
        "    name: str = input(\"What's your name? \")\n",
        "    print(greet(name))\n",
        "\n",
        "def greet(name):\n",
        "    return \"Greetings \" + name + \"!\"\n",
        "\n",
        "if __name__ == '__main__':\n",
        "    main()\n"
      ],
      "metadata": {
        "colab": {
          "base_uri": "https://localhost:8080/"
        },
        "id": "8M8fHdmtMJdh",
        "outputId": "86fee0c1-50e4-4c1f-d5a8-89b16d9b7f31"
      },
      "execution_count": 4,
      "outputs": [
        {
          "output_type": "stream",
          "name": "stdout",
          "text": [
            "01_greetings\n",
            "What's your name? sana\n",
            "Greetings sana!\n"
          ]
        }
      ]
    },
    {
      "cell_type": "code",
      "source": [
        "print('02_in_range')\n",
        "\n",
        "def in_range(n, low, high):\n",
        "    4\n",
        "    if n >= low and n <= high:\n",
        "        return True\n",
        "    return False\n",
        "\n",
        "def main():\n",
        "\n",
        "    n = int(input(\"Enter a number: \"))\n",
        "    low = int(input(\"Enter the lower bound: \"))\n",
        "    high = int(input(\"Enter the upper bound: \"))\n",
        "\n",
        "    print(in_range(n, low, high))\n",
        "\n",
        "if __name__ == '__main__':\n",
        "    main()\n"
      ],
      "metadata": {
        "colab": {
          "base_uri": "https://localhost:8080/"
        },
        "id": "EkHNs74KMxHw",
        "outputId": "343db68a-9f04-4871-8c67-f9b6ec31feac"
      },
      "execution_count": 6,
      "outputs": [
        {
          "output_type": "stream",
          "name": "stdout",
          "text": [
            "02_in_range\n",
            "Enter a number: 5\n",
            "Enter the lower bound: 3\n",
            "Enter the upper bound: 10\n",
            "True\n"
          ]
        }
      ]
    },
    {
      "cell_type": "code",
      "source": [
        "print('03_in_stock')\n",
        "\n",
        "def main():\n",
        "    # Prompt the user to enter a fruit\n",
        "    fruit = input(\"Enter a fruit: \")\n",
        "    stock = num_in_stock(fruit)\n",
        "\n",
        "    # Print the result based on the stock\n",
        "    if stock == 0:\n",
        "        print(\"This fruit is not in stock.\")\n",
        "    else:\n",
        "        print(\"This fruit is in stock! Here is how many:\")\n",
        "        print(stock)\n",
        "\n",
        "def num_in_stock(fruit):\n",
        "\n",
        "    if fruit == 'apple':\n",
        "        return 2\n",
        "    if fruit == 'banana':\n",
        "        return 4\n",
        "    if fruit == 'mango':\n",
        "        return 1000\n",
        "    else:\n",
        "        # This fruit is not in stock\n",
        "        return 0\n",
        "\n",
        "if __name__ == '__main__':\n",
        "    main()\n"
      ],
      "metadata": {
        "colab": {
          "base_uri": "https://localhost:8080/"
        },
        "id": "gt3X1Jw7N3mb",
        "outputId": "c8736051-34d4-4b48-96df-d76167873f78"
      },
      "execution_count": 9,
      "outputs": [
        {
          "output_type": "stream",
          "name": "stdout",
          "text": [
            "03_in_stock\n",
            "Enter a fruit: mango\n",
            "This fruit is in stock! Here is how many:\n",
            "1000\n"
          ]
        }
      ]
    },
    {
      "cell_type": "code",
      "source": [
        "print('04_multiple_returns')\n",
        "\n",
        "def get_user_info():\n",
        "    first_name: str = input(\"What is your first name?: \")\n",
        "    last_name: str = input(\"What is your last name?: \")\n",
        "    email_address: str = input(\"What is your email address?: \")\n",
        "\n",
        "    return first_name, last_name, email_address\n",
        "\n",
        "def main():\n",
        "    user_data = get_user_info()\n",
        "    print(\"Received the following user data:\", user_data)\n",
        "\n",
        "if __name__ == \"__main__\":\n",
        "    main()\n"
      ],
      "metadata": {
        "colab": {
          "base_uri": "https://localhost:8080/"
        },
        "id": "m8esOMZ-ZDZK",
        "outputId": "abb60262-1724-47de-8733-1bbcf7a0cb85"
      },
      "execution_count": 1,
      "outputs": [
        {
          "output_type": "stream",
          "name": "stdout",
          "text": [
            "04_multiple_returns\n",
            "What is your first name?: sana\n",
            "What is your last name?: khan\n",
            "What is your email address?: sanakhan@gmail.com\n",
            "Received the following user data: ('sana', 'khan', 'sanakhan@gmail.com')\n"
          ]
        }
      ]
    },
    {
      "cell_type": "code",
      "source": [
        "print('05_subtract_7')\n",
        "\n",
        "def main():\n",
        "    num: int = 7\n",
        "    num = subtract_seven(num)\n",
        "    print(\"this should be zero:\", num)\n",
        "\n",
        "def subtract_seven(num):\n",
        "    num = num - 7\n",
        "    return num\n",
        "if __name__ == '__main__':\n",
        "    main()\n"
      ],
      "metadata": {
        "colab": {
          "base_uri": "https://localhost:8080/"
        },
        "id": "nQt0R8tR-DQ0",
        "outputId": "e76d3366-f8bd-44f5-f9d8-a2282342eba0"
      },
      "execution_count": 2,
      "outputs": [
        {
          "output_type": "stream",
          "name": "stdout",
          "text": [
            "05_subtract_7\n",
            "this should be zero: 0\n"
          ]
        }
      ]
    }
  ]
}