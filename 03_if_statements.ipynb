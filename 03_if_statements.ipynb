{
  "nbformat": 4,
  "nbformat_minor": 0,
  "metadata": {
    "colab": {
      "provenance": [],
      "authorship_tag": "ABX9TyNjM87symMfsTymwPgDVY+4",
      "include_colab_link": true
    },
    "kernelspec": {
      "name": "python3",
      "display_name": "Python 3"
    },
    "language_info": {
      "name": "python"
    }
  },
  "cells": [
    {
      "cell_type": "markdown",
      "metadata": {
        "id": "view-in-github",
        "colab_type": "text"
      },
      "source": [
        "<a href=\"https://colab.research.google.com/github/sanakhalid1521/homework_projects4/blob/main/03_if_statements.ipynb\" target=\"_parent\"><img src=\"https://colab.research.google.com/assets/colab-badge.svg\" alt=\"Open In Colab\"/></a>"
      ]
    },
    {
      "cell_type": "code",
      "execution_count": 1,
      "metadata": {
        "colab": {
          "base_uri": "https://localhost:8080/"
        },
        "id": "fzOZxPA3crDm",
        "outputId": "823769db-1802-4657-afd3-6d1a57a3c3d5"
      },
      "outputs": [
        {
          "output_type": "stream",
          "name": "stdout",
          "text": [
            "01_print_events\n",
            "0\n",
            "2\n",
            "4\n",
            "6\n",
            "8\n",
            "10\n",
            "12\n",
            "14\n",
            "16\n",
            "18\n",
            "20\n",
            "22\n",
            "24\n",
            "26\n",
            "28\n",
            "30\n",
            "32\n",
            "34\n",
            "36\n",
            "38\n"
          ]
        }
      ],
      "source": [
        "print('01_print_events')\n",
        "\n",
        "def main():\n",
        "\n",
        "    for i in range(20):\n",
        "        print(i * 2)\n",
        "\n",
        "if __name__ == '__main__':\n",
        "    main()\n"
      ]
    },
    {
      "cell_type": "code",
      "source": [
        "print('02_international_voting_age')\n",
        "ALI_AGE: int = 16\n",
        "AHMED_AGE: int = 25\n",
        "SARA_AGE: int = 48\n",
        "\n",
        "def main():\n",
        "    user_age = int(input(\"How old are you? \"))\n",
        "\n",
        "    if user_age >= ALI_AGE:\n",
        "        print(\"You can vote in Ali where the voting age is\", ALI_AGE, \".\")\n",
        "    else:\n",
        "        print(\"You cannot vote in Ali where the voting age is\", ALI_AGE, \".\")\n",
        "\n",
        "    if user_age >= AHMED_AGE:\n",
        "        print(\"You can vote in Ahmed where the voting age is\", AHMED_AGE, \".\")\n",
        "    else:\n",
        "        print(\"You cannot vote in Ahmed where the voting age is\", AHMED_AGE, \".\")\n",
        "\n",
        "    if user_age >= SARA_AGE:\n",
        "        print(\"You can vote in Sara where the voting age is\", SARA_AGE, \".\")\n",
        "    else:\n",
        "        print(\"You cannot vote in Sara where the voting age is\", SARA_AGE, \".\")\n",
        "\n",
        "if __name__ == '__main__':\n",
        "    main()\n"
      ],
      "metadata": {
        "colab": {
          "base_uri": "https://localhost:8080/"
        },
        "id": "n7ol9Ugwk1wL",
        "outputId": "5d240d76-4440-49b0-d32c-398f0d8f80e0"
      },
      "execution_count": 3,
      "outputs": [
        {
          "output_type": "stream",
          "name": "stdout",
          "text": [
            "02_international_voting_age\n",
            "How old are you? 30\n",
            "You can vote in Ali where the voting age is 16 .\n",
            "You can vote in Ahmed where the voting age is 25 .\n",
            "You cannot vote in Sara where the voting age is 48 .\n"
          ]
        }
      ]
    },
    {
      "cell_type": "code",
      "source": [
        "print('3_leap_year.')\n",
        "\n",
        "def main():\n",
        "    # Get the year to check from the user\n",
        "    year = int(input('Please input a year: '))\n",
        "\n",
        "    if year % 4 == 0:  # Year should be divisible by 4\n",
        "        if year % 100 == 0:  # If divisible by 100\n",
        "            if year % 400 == 0:  # If divisible by 400\n",
        "                print(\"That's a leap year!\")\n",
        "            else:\n",
        "                print(\"That's not a leap year.\")\n",
        "        else:\n",
        "            print(\"That's a leap year!\")\n",
        "    else:\n",
        "        print(\"That's not a leap year.\")\n",
        "if __name__ == '__main__':\n",
        "    main()\n"
      ],
      "metadata": {
        "colab": {
          "base_uri": "https://localhost:8080/"
        },
        "id": "VZvnprAqm4JU",
        "outputId": "66dce8ba-e022-42a8-c48c-fc43def0064b"
      },
      "execution_count": 7,
      "outputs": [
        {
          "output_type": "stream",
          "name": "stdout",
          "text": [
            "3_leap_year.\n",
            "Please input a year: 2020\n",
            "That's a leap year!\n"
          ]
        }
      ]
    },
    {
      "cell_type": "code",
      "source": [
        "print('04_tall_enough_to_ride')\n",
        "\n",
        "MINIMUM_HEIGHT : int = 25\n",
        "\n",
        "def main():\n",
        "\n",
        "    height = float(input(\"How tall are you? \"))\n",
        "\n",
        "    if height >= MINIMUM_HEIGHT:\n",
        "        print(\"You're tall enough to ride!\")\n",
        "    else:\n",
        "        print(\"You're not tall enough to ride, but maybe next year!\")\n",
        "if __name__ == '__main__':\n",
        "    main()\n"
      ],
      "metadata": {
        "colab": {
          "base_uri": "https://localhost:8080/"
        },
        "id": "-3fHL-RHn93W",
        "outputId": "c329c01c-cfa8-437d-bf79-31145ca1ccc9"
      },
      "execution_count": 10,
      "outputs": [
        {
          "output_type": "stream",
          "name": "stdout",
          "text": [
            "04_tall_enough_to_ride\n",
            "How tall are you? 26\n",
            "You're tall enough to ride!\n"
          ]
        }
      ]
    },
    {
      "cell_type": "code",
      "source": [
        "print('05_random_numbers')\n",
        "\n",
        "import random\n",
        "\n",
        "N_NUMBERS : int = 10\n",
        "MIN_VALUE : int = 1\n",
        "MAX_VALUE : int = 100\n",
        "\n",
        "def main():\n",
        "    # Generate 10 random numbers and print them\n",
        "    for _ in range(N_NUMBERS):\n",
        "        print(random.randint(MIN_VALUE, MAX_VALUE), end=\" \")\n",
        "\n",
        "if __name__ == '__main__':\n",
        "    main()\n"
      ],
      "metadata": {
        "colab": {
          "base_uri": "https://localhost:8080/"
        },
        "id": "f5IwV3Deoss_",
        "outputId": "ffcd850e-589f-4583-f2f1-06c9330a5a0b"
      },
      "execution_count": 11,
      "outputs": [
        {
          "output_type": "stream",
          "name": "stdout",
          "text": [
            "05_random_numbers\n",
            "39 12 61 50 68 72 12 89 22 56 "
          ]
        }
      ]
    }
  ]
}