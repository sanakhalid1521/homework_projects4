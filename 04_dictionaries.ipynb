{
  "nbformat": 4,
  "nbformat_minor": 0,
  "metadata": {
    "colab": {
      "provenance": [],
      "authorship_tag": "ABX9TyNqLT5/lzUz9QkN9pUNDLn0",
      "include_colab_link": true
    },
    "kernelspec": {
      "name": "python3",
      "display_name": "Python 3"
    },
    "language_info": {
      "name": "python"
    }
  },
  "cells": [
    {
      "cell_type": "markdown",
      "metadata": {
        "id": "view-in-github",
        "colab_type": "text"
      },
      "source": [
        "<a href=\"https://colab.research.google.com/github/sanakhalid1521/homework_projects4/blob/main/04_dictionaries.ipynb\" target=\"_parent\"><img src=\"https://colab.research.google.com/assets/colab-badge.svg\" alt=\"Open In Colab\"/></a>"
      ]
    },
    {
      "cell_type": "code",
      "execution_count": 2,
      "metadata": {
        "colab": {
          "base_uri": "https://localhost:8080/"
        },
        "id": "FLvIePeyp5fC",
        "outputId": "8d928457-bc3a-4ea8-ce49-b2cd68331980"
      },
      "outputs": [
        {
          "output_type": "stream",
          "name": "stdout",
          "text": [
            "00_count_nums\n",
            "Enter a number: 2\n",
            "Enter a number: 3\n",
            "Enter a number: 4\n",
            "Enter a number: 5\n",
            "Enter a number: 6\n",
            "Enter a number: 4\n",
            "Enter a number: 7\n",
            "Enter a number: \n",
            "2 appears 1 times.\n",
            "3 appears 1 times.\n",
            "4 appears 2 times.\n",
            "5 appears 1 times.\n",
            "6 appears 1 times.\n",
            "7 appears 1 times.\n"
          ]
        }
      ],
      "source": [
        "print('00_count_nums')\n",
        "\n",
        "def get_user_numbers():\n",
        "\n",
        "    user_numbers = []\n",
        "    while True:\n",
        "        user_input = input(\"Enter a number: \")\n",
        "\n",
        "        # If the user enters a blank line, break out of the loop and stop asking for input\n",
        "        if user_input == \"\":\n",
        "            break\n",
        "\n",
        "        # Convert the user input to an integer and add it to the list\n",
        "        num = int(user_input)\n",
        "        user_numbers.append(num)\n",
        "\n",
        "    return user_numbers\n",
        "\n",
        "def count_nums(num_lst):\n",
        "\n",
        "    num_dict = {}\n",
        "    for num in num_lst:\n",
        "        if num not in num_dict:\n",
        "            num_dict[num] = 1\n",
        "        else:\n",
        "            num_dict[num] += 1\n",
        "\n",
        "    return num_dict\n",
        "\n",
        "\n",
        "def print_counts(num_dict):\n",
        "\n",
        "    for num in num_dict:\n",
        "        print(f\"{num} appears {num_dict[num]} times.\")\n",
        "\n",
        "\n",
        "def main():\n",
        "\n",
        "    user_numbers = get_user_numbers()\n",
        "    num_dict = count_nums(user_numbers)\n",
        "    print_counts(num_dict)\n",
        "\n",
        "if __name__ == '__main__':\n",
        "    main()\n"
      ]
    },
    {
      "cell_type": "code",
      "source": [
        "print('01_phonebook')\n",
        "\n",
        "def read_phone_numbers():\n",
        "\n",
        "    phonebook = {}  # Create empty phonebook\n",
        "\n",
        "    while True:\n",
        "        name = input(\"Name: \")\n",
        "        if name == \"\":  # Stop when an empty name is entered\n",
        "            break\n",
        "        number = input(\"Number: \")\n",
        "        phonebook[name] = number  # Store the name and number in the phonebook\n",
        "\n",
        "    return phonebook\n",
        "\n",
        "def print_phonebook(phonebook):\n",
        "\n",
        "    for name in phonebook:\n",
        "        print(f\"{name} -> {phonebook[name]}\")  # Print name and number\n",
        "\n",
        "def lookup_numbers(phonebook):\n",
        "\n",
        "    while True:\n",
        "        name = input(\"Enter name to lookup: \")\n",
        "        if name == \"\":  # Stop when an empty name is entered\n",
        "            break\n",
        "        if name not in phonebook:\n",
        "            print(f\"{name} is not in the phonebook\")  # Name not found\n",
        "        else:\n",
        "            print(phonebook[name])  # Print the phone number associated with the name\n",
        "\n",
        "def main():\n",
        "    phonebook = read_phone_numbers()  # Read phone numbers into the phonebook\n",
        "    print_phonebook(phonebook)  # Print all entries in the phonebook\n",
        "    lookup_numbers(phonebook)  # Allow the user to look up phone numbers\n",
        "\n",
        "if __name__ == '__main__':\n",
        "    main()\n"
      ],
      "metadata": {
        "colab": {
          "base_uri": "https://localhost:8080/"
        },
        "id": "U-4nBwzyrZf7",
        "outputId": "5e8182f0-a537-48fd-f048-a53dfc596713"
      },
      "execution_count": 4,
      "outputs": [
        {
          "name": "stdout",
          "output_type": "stream",
          "text": [
            "01_phonebook\n",
            "Name: sana\n",
            "Number: 123445435346\n",
            "Name: sara\n",
            "Number: 234354645\n",
            "Name: zara\n",
            "Number: 5676878978\n",
            "Name: ali\n",
            "Number: 453456346\n",
            "Name: \n",
            "sana -> 123445435346\n",
            "sara -> 234354645\n",
            "zara -> 5676878978\n",
            "ali -> 453456346\n",
            "Enter name to lookup: ali\n",
            "453456346\n",
            "Enter name to lookup: zara\n",
            "5676878978\n",
            "Enter name to lookup: \n"
          ]
        }
      ]
    },
    {
      "cell_type": "code",
      "source": [
        "print('02_pop_up_shop')\n",
        "\n",
        "def main():\n",
        "    # Dictionary with fruit prices\n",
        "    fruits = {'apple': 25, 'banana': 50, 'grapfruit': 80, 'kiwi': 100, 'mango': 150}\n",
        "\n",
        "    # Variable to hold the total cost\n",
        "    total_cost = 0\n",
        "\n",
        "    for fruit_name in fruits:\n",
        "        price = fruits[fruit_name]\n",
        "        amount_bought = int(input(f\"How many ({fruit_name}) do you want to buy?: \"))\n",
        "        total_cost += (price * amount_bought)\n",
        "\n",
        "    print(f\"Your total is PKR {total_cost}\")\n",
        "\n",
        "if __name__ == '__main__':\n",
        "    main()\n"
      ],
      "metadata": {
        "colab": {
          "base_uri": "https://localhost:8080/"
        },
        "id": "IKwuEOqEs8Vs",
        "outputId": "c30e97d1-f5e2-418b-d2b4-911d51766d87"
      },
      "execution_count": 6,
      "outputs": [
        {
          "output_type": "stream",
          "name": "stdout",
          "text": [
            "02_pop_up_shop\n",
            "How many (apple) do you want to buy?: 20\n",
            "How many (banana) do you want to buy?: 30\n",
            "How many (grapfruit) do you want to buy?: 40\n",
            "How many (kiwi) do you want to buy?: 50\n",
            "How many (mango) do you want to buy?: 60\n",
            "Your total is PKR19200\n"
          ]
        }
      ]
    },
    {
      "cell_type": "code",
      "source": [
        "print('03_powerful_passwords')\n",
        "\n",
        "from hashlib import sha256\n",
        "\n",
        "def login(email, stored_logins, password_to_check):\n",
        "    \"\"\"\n",
        "    Yeh function email ke liye stored password hash ko check karta hai\n",
        "    aur dekhta hai ki jo password user ne diya uska hash match karta hai ya nahi.\n",
        "    \"\"\"\n",
        "\n",
        "    if stored_logins[email] == hash_password(password_to_check):\n",
        "        return True  # Agar match kar gaya toh True return karega (login successful)\n",
        "\n",
        "    return False  # Agar match nahi kar raha toh False return karega (login unsuccessful)\n",
        "\n",
        "def hash_password(password):\n",
        "    \"\"\"\n",
        "    Yeh function password ko hash karta hai aur uska hashed version return karta hai.\n",
        "    \"\"\"\n",
        "    return sha256(password.encode()).hexdigest()\n",
        "\n",
        "def main():\n",
        "    stored_logins = {\n",
        "        \"example@gmail.com\": \"5e884898da28047151d0e56f8dc6292773603d0d6aabbdd62a11ef721d1542d8\",  # \"password\" ka hash\n",
        "        \"code_in_placer@cip.org\": \"973607a4ae7b4cf7d96a100b0fb07e8519cc4f70441d41214a9f811577bb06cc\",  # \"Karel\" ka hash\n",
        "        \"student@stanford.edu\": \"882c6df720fd99f5eebb1581a1cf975625cea8a160283011c0b9512bb56c95fb\"  # \"123!456?789\" ka hash\n",
        "    }\n",
        "\n",
        "    # Test case login ke liye\n",
        "    print(login(\"example@gmail.com\", stored_logins, \"password\"))  # True: Password match karta hai\n",
        "    print(login(\"example@gmail.com\", stored_logins, \"word\"))      # False: Password match nahi karta\n",
        "\n",
        "    print(login(\"code_in_placer@cip.org\", stored_logins, \"Karel\"))  # True: \"Karel\" match karta hai\n",
        "    print(login(\"code_in_placer@cip.org\", stored_logins, \"karel\"))  # False: Case sensitive mismatch hai\n",
        "\n",
        "    print(login(\"student@stanford.edu\", stored_logins, \"password\"))  # False: \"password\" match nahi karta\n",
        "    print(login(\"student@stanford.edu\", stored_logins, \"123!456?789\"))  # True: Match karta hai\n",
        "\n",
        "if __name__ == '__main__':\n",
        "    main()\n"
      ],
      "metadata": {
        "colab": {
          "base_uri": "https://localhost:8080/"
        },
        "id": "6BcNpRehuiN4",
        "outputId": "d3d8c9e5-f424-403f-81dd-8a90f656e84f"
      },
      "execution_count": 9,
      "outputs": [
        {
          "output_type": "stream",
          "name": "stdout",
          "text": [
            "03_powerful_passwords\n",
            "True\n",
            "False\n",
            "False\n",
            "True\n",
            "False\n",
            "True\n"
          ]
        }
      ]
    }
  ]
}