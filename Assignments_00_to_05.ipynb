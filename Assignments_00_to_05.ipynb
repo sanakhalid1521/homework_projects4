{
  "nbformat": 4,
  "nbformat_minor": 0,
  "metadata": {
    "colab": {
      "provenance": [],
      "authorship_tag": "ABX9TyPU7/ywNXfEWs9gSD1Jvyef",
      "include_colab_link": true
    },
    "kernelspec": {
      "name": "python3",
      "display_name": "Python 3"
    },
    "language_info": {
      "name": "python"
    }
  },
  "cells": [
    {
      "cell_type": "markdown",
      "metadata": {
        "id": "view-in-github",
        "colab_type": "text"
      },
      "source": [
        "<a href=\"https://colab.research.google.com/github/sanakhalid1521/homework_projects4/blob/main/Assignments_00_to_05.ipynb\" target=\"_parent\"><img src=\"https://colab.research.google.com/assets/colab-badge.svg\" alt=\"Open In Colab\"/></a>"
      ]
    },
    {
      "cell_type": "markdown",
      "source": [
        "***00_intro_python***"
      ],
      "metadata": {
        "id": "hxi4JXpo9MUi"
      }
    },
    {
      "cell_type": "code",
      "source": [
        "print('01_add_two_numbers')\n",
        "\n",
        "# Prompt the user to enter the first number\n",
        "first_number = int(input(\"Enter the first number: \"))\n",
        "\n",
        "# Prompt the user to enter the second number\n",
        "second_number = int(input(\"Enter the second number: \"))\n",
        "\n",
        "# Calculate the sum\n",
        "total_sum = first_number + second_number\n",
        "\n",
        "# Print the result\n",
        "print(\"The sum of the two numbers is:\", total_sum)\n"
      ],
      "metadata": {
        "colab": {
          "base_uri": "https://localhost:8080/"
        },
        "id": "y_2ZhHyi979Z",
        "outputId": "4d632cac-18bb-4298-d13d-162c11c605a6"
      },
      "execution_count": 1,
      "outputs": [
        {
          "output_type": "stream",
          "name": "stdout",
          "text": [
            "01_add_two_numbers\n",
            "Enter the first number: 5\n",
            "Enter the second number: 6\n",
            "The sum of the two numbers is: 11\n"
          ]
        }
      ]
    },
    {
      "cell_type": "code",
      "source": [
        "print('02_agreement_bot')\n",
        "\n",
        "def main():\n",
        "    # Ask the user for their favorite animal\n",
        "    favorite_animal = input(\"What's your favorite animal? \")\n",
        "\n",
        "    print(\"My favorite animal is also \" + favorite_animal + \"!\")\n",
        "\n",
        "# Python file to call the main() function.\n",
        "if __name__ == '__main__':\n",
        "    main()\n",
        "\n"
      ],
      "metadata": {
        "colab": {
          "base_uri": "https://localhost:8080/"
        },
        "id": "QdMLCLWH-pZp",
        "outputId": "e397ac23-226e-418f-ad27-75351a193fae"
      },
      "execution_count": 3,
      "outputs": [
        {
          "output_type": "stream",
          "name": "stdout",
          "text": [
            "02_agreement_bot\n",
            "What's your favorite animal? cat\n",
            "My favorite animal is also cat!\n"
          ]
        }
      ]
    },
    {
      "cell_type": "code",
      "source": [
        "print('03_fahrenheit_to_celsius')\n",
        "\n",
        "def main():\n",
        "    # Prompt the user to enter temperature in Fahrenheit\n",
        "    fahrenheit = float(input(\"Enter temperature in Fahrenheit: \"))\n",
        "\n",
        "    # Convert Fahrenheit to Celsius using the given formula\n",
        "    celsius = (fahrenheit - 32) * 5.0 / 9.0\n",
        "\n",
        "    # Print the result\n",
        "    print(\"Temperature:\", str(fahrenheit) + \"F =\", str(celsius) + \"C\")\n",
        "\n",
        "if __name__ == '__main__':\n",
        "    main()\n"
      ],
      "metadata": {
        "colab": {
          "base_uri": "https://localhost:8080/"
        },
        "id": "TfcTRabH_Fz7",
        "outputId": "c84ac226-3306-4c89-e062-adc87c4a2fcb"
      },
      "execution_count": 4,
      "outputs": [
        {
          "output_type": "stream",
          "name": "stdout",
          "text": [
            "03_fahrenheit_to_celsius\n",
            "Enter temperature in Fahrenheit: 78\n",
            "Temperature: 78.0F = 25.555555555555557C\n"
          ]
        }
      ]
    },
    {
      "cell_type": "code",
      "source": [
        "print('04_how_old_are_they')\n",
        "\n",
        "def main():\n",
        "    ali: int = 21  # Ali's age is 21\n",
        "    bilal: int = ali + 6  # Bilal is 6 years older than Ali\n",
        "    chanda: int = bilal + 20  # Chanda is 20 years older than Bilal\n",
        "    danish: int = chanda + ali  # Danish is as old as Chanda's age plus Ali's age\n",
        "    emma: int = chanda  # Emma is the same age as Chanda\n",
        "\n",
        "    # Print out all of the ages\n",
        "    print(\"Ali is \" + str(ali))\n",
        "    print(\"Bilal is \" + str(bilal))\n",
        "    print(\"Chanda is \" + str(chanda))\n",
        "    print(\"Danish is \" + str(danish))\n",
        "    print(\"Emma is \" + str(emma))\n",
        "\n",
        "\n",
        "# Required line to call the main() function\n",
        "if __name__ == '__main__':\n",
        "    main()\n"
      ],
      "metadata": {
        "colab": {
          "base_uri": "https://localhost:8080/"
        },
        "id": "4qFLiF1BAVni",
        "outputId": "cdfa9b15-33a4-415b-a0af-6a93c6b12be4"
      },
      "execution_count": 5,
      "outputs": [
        {
          "output_type": "stream",
          "name": "stdout",
          "text": [
            "04_how_old_are_they\n",
            "Ali is 21\n",
            "Bilal is 27\n",
            "Chanda is 47\n",
            "Danish is 68\n",
            "Emma is 47\n"
          ]
        }
      ]
    },
    {
      "cell_type": "code",
      "source": [
        "print('05_triangle_perimeter')\n",
        "\n",
        "def main():\n",
        "    # Get the 3 side lengths of the triangle\n",
        "    side1: float = float(input(\"What is the length of side 1? \"))\n",
        "    side2: float = float(input(\"What is the length of side 2? \"))\n",
        "    side3: float = float(input(\"What is the length of side 3? \"))\n",
        "\n",
        "    # Calculate the perimeter\n",
        "    perimeter: float = side1 + side2 + side3\n",
        "\n",
        "    # Print the result\n",
        "    print(\"The perimeter of the triangle is \" + str(perimeter))\n",
        "\n",
        "\n",
        "# This provided line is required at the end of\n",
        "# Python file to call the main() function.\n",
        "if __name__ == '__main__':\n",
        "    main()\n"
      ],
      "metadata": {
        "colab": {
          "base_uri": "https://localhost:8080/"
        },
        "id": "I5QvmwdEBP_m",
        "outputId": "45617cb6-b30e-4c5e-f555-1c39b24f00a3"
      },
      "execution_count": 6,
      "outputs": [
        {
          "output_type": "stream",
          "name": "stdout",
          "text": [
            "05_triangle_perimeter\n",
            "What is the length of side 1? 6\n",
            "What is the length of side 2? 8\n",
            "What is the length of side 3? 9\n",
            "The perimeter of the triangle is 23.0\n"
          ]
        }
      ]
    },
    {
      "cell_type": "code",
      "source": [
        "print('06_square_number')\n",
        "\n",
        "def main():\n",
        "    # Ask the user for a number\n",
        "    num: float = float(input(\"Type a number to see its square: \"))\n",
        "\n",
        "    # Calculate and print the square\n",
        "    print(str(num) + \" squared is \" + str(num ** 2))\n",
        "\n",
        "if __name__ == '__main__':\n",
        "    main()\n"
      ],
      "metadata": {
        "colab": {
          "base_uri": "https://localhost:8080/"
        },
        "id": "IDfr0DrBBwlB",
        "outputId": "06b5ccf9-ca6d-4429-ebbf-2b71cc3cf119"
      },
      "execution_count": 7,
      "outputs": [
        {
          "output_type": "stream",
          "name": "stdout",
          "text": [
            "06_square_number\n",
            "Type a number to see its square: 8\n",
            "8.0 squared is 64.0\n"
          ]
        }
      ]
    }
  ]
}