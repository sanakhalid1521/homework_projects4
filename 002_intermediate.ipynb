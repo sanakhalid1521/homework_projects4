{
  "nbformat": 4,
  "nbformat_minor": 0,
  "metadata": {
    "colab": {
      "provenance": [],
      "authorship_tag": "ABX9TyMLkjrV19OaNM7MtFciPF0h",
      "include_colab_link": true
    },
    "kernelspec": {
      "name": "python3",
      "display_name": "Python 3"
    },
    "language_info": {
      "name": "python"
    }
  },
  "cells": [
    {
      "cell_type": "markdown",
      "metadata": {
        "id": "view-in-github",
        "colab_type": "text"
      },
      "source": [
        "<a href=\"https://colab.research.google.com/github/sanakhalid1521/homework_projects4/blob/main/002_intermediate.ipynb\" target=\"_parent\"><img src=\"https://colab.research.google.com/assets/colab-badge.svg\" alt=\"Open In Colab\"/></a>"
      ]
    },
    {
      "cell_type": "code",
      "execution_count": 1,
      "metadata": {
        "colab": {
          "base_uri": "https://localhost:8080/"
        },
        "id": "rGo7LEhpImTy",
        "outputId": "4fed7fd4-d8ae-4bf9-dffe-4a20d2f594ce"
      },
      "outputs": [
        {
          "output_type": "stream",
          "name": "stdout",
          "text": [
            "High-Low Game\n",
            "Welcome to the High-Low Game!\n",
            "--------------------------------\n",
            "Round 1\n",
            "Your number is 17\n",
            "Do you think your number is higher or lower than the computer's?: 15\n",
            "Please enter either higher or lower: higher\n",
            "Aww, that's incorrect. The computer's number was 84\n",
            "Your score is now 0\n",
            "\n",
            "Round 2\n",
            "Your number is 9\n",
            "Do you think your number is higher or lower than the computer's?: lower\n",
            "You were right! The computer's number was 45\n",
            "Your score is now 1\n",
            "\n",
            "Round 3\n",
            "Your number is 57\n",
            "Do you think your number is higher or lower than the computer's?: higher\n",
            "You were right! The computer's number was 49\n",
            "Your score is now 2\n",
            "\n",
            "Round 4\n",
            "Your number is 64\n",
            "Do you think your number is higher or lower than the computer's?: \n",
            "Please enter either higher or lower: lower\n",
            "You were right! The computer's number was 98\n",
            "Your score is now 3\n",
            "\n",
            "Round 5\n",
            "Your number is 86\n",
            "Do you think your number is higher or lower than the computer's?: higher\n",
            "You were right! The computer's number was 63\n",
            "Your score is now 4\n",
            "\n",
            "Thanks for playing!\n",
            "Your final score is: 4\n",
            "👍 Good job, you played really well!\n"
          ]
        }
      ],
      "source": [
        "print('High-Low Game')\n",
        "\n",
        "import random\n",
        "\n",
        "NUM_ROUNDS = 5  # You can change the number of rounds here\n",
        "\n",
        "def main():\n",
        "    print(\"Welcome to the High-Low Game!\")\n",
        "    print(\"--------------------------------\")\n",
        "\n",
        "    score = 0\n",
        "\n",
        "    for round_num in range(1, NUM_ROUNDS + 1):\n",
        "        print(f\"Round {round_num}\")\n",
        "        user_number = random.randint(1, 100)\n",
        "        computer_number = random.randint(1, 100)\n",
        "\n",
        "        print(f\"Your number is {user_number}\")\n",
        "\n",
        "        # Get user input with validation\n",
        "        guess = input(\"Do you think your number is higher or lower than the computer's?: \").strip().lower()\n",
        "        while guess not in [\"higher\", \"lower\"]:\n",
        "            guess = input(\"Please enter either higher or lower: \").strip().lower()\n",
        "\n",
        "        # Determine if the guess is correct\n",
        "        is_correct = False\n",
        "        if guess == \"higher\" and user_number > computer_number:\n",
        "            is_correct = True\n",
        "        elif guess == \"lower\" and user_number < computer_number:\n",
        "            is_correct = True\n",
        "\n",
        "        # Output result\n",
        "        if is_correct:\n",
        "            print(f\"You were right! The computer's number was {computer_number}\")\n",
        "            score += 1\n",
        "        else:\n",
        "            print(f\"Aww, that's incorrect. The computer's number was {computer_number}\")\n",
        "\n",
        "        print(f\"Your score is now {score}\")\n",
        "        print()  # Blank line between rounds\n",
        "\n",
        "    # Ending message based on performance\n",
        "    print(\"Thanks for playing!\")\n",
        "    print(f\"Your final score is: {score}\")\n",
        "    if score == NUM_ROUNDS:\n",
        "        print(\"🌟 Wow! You played perfectly!\")\n",
        "    elif score >= NUM_ROUNDS // 2:\n",
        "        print(\"👍 Good job, you played really well!\")\n",
        "    else:\n",
        "        print(\"🙁 Better luck next time!\")\n",
        "\n",
        "if __name__ == '__main__':\n",
        "    main()\n"
      ]
    },
    {
      "cell_type": "code",
      "source": [
        "print('Planetary Weight Calculator')\n",
        "print('Milestone #1: Mars Weight Program')\n",
        "\n",
        "def main():\n",
        "    earth_weight = float(input(\"Enter a weight on Earth: \"))\n",
        "    mars_weight = earth_weight * 0.378\n",
        "    print(\"The equivalent on Mars:\", round(mars_weight, 2))\n",
        "\n",
        "if __name__ == \"__main__\":\n",
        "    main()\n"
      ],
      "metadata": {
        "colab": {
          "base_uri": "https://localhost:8080/"
        },
        "id": "0EDvwC3bKRMl",
        "outputId": "97883302-bf28-4d68-b8cd-d81226616e1f"
      },
      "execution_count": 3,
      "outputs": [
        {
          "output_type": "stream",
          "name": "stdout",
          "text": [
            "Planetary Weight Calculator\n",
            "Milestone #1: Mars Weight Program\n",
            "Enter a weight on Earth: 5\n",
            "The equivalent on Mars: 1.89\n"
          ]
        }
      ]
    },
    {
      "cell_type": "code",
      "source": [
        "print('Planetary Weight Calculator')\n",
        "print('Milestone #2: All Planets Weight Program')\n",
        "\n",
        "def main():\n",
        "    earth_weight = float(input(\"Enter a weight on Earth: \"))\n",
        "    planet = input(\"Enter a planet: \")\n",
        "\n",
        "    if planet == \"Mercury\":\n",
        "        factor = 0.376\n",
        "    elif planet == \"Venus\":\n",
        "        factor = 0.889\n",
        "    elif planet == \"Mars\":\n",
        "        factor = 0.378\n",
        "    elif planet == \"Jupiter\":\n",
        "        factor = 2.36\n",
        "    elif planet == \"Saturn\":\n",
        "        factor = 1.081\n",
        "    elif planet == \"Uranus\":\n",
        "        factor = 0.815\n",
        "    elif planet == \"Neptune\":\n",
        "        factor = 1.14\n",
        "    else:\n",
        "        print(\"Unknown planet!\")\n",
        "        return\n",
        "\n",
        "    planetary_weight = round(earth_weight * factor, 2)\n",
        "    print(f\"The equivalent weight on {planet}: {planetary_weight}\")\n",
        "\n",
        "if __name__ == \"__main__\":\n",
        "    main()\n"
      ],
      "metadata": {
        "colab": {
          "base_uri": "https://localhost:8080/"
        },
        "id": "VbL0GESbL-3J",
        "outputId": "41b39cca-5e3d-4cdf-8a16-5675045cc89c"
      },
      "execution_count": 7,
      "outputs": [
        {
          "output_type": "stream",
          "name": "stdout",
          "text": [
            "Planetary Weight Calculator\n",
            "Milestone #2: All Planets Weight Program\n",
            "Enter a weight on Earth: 0.889\n",
            "Enter a planet: Venus\n",
            "The equivalent weight on Venus: 0.79\n"
          ]
        }
      ]
    },
    {
      "cell_type": "code",
      "source": [
        "print('Problem #1: List Practice')\n",
        "\n",
        "def main():\n",
        "\n",
        "    fruit_list = ['apple', 'banana', 'orange', 'grape', 'pineapple']\n",
        "\n",
        "    print(\"Length of fruit_list:\", len(fruit_list))\n",
        "\n",
        "    fruit_list.append('mango')\n",
        "\n",
        "    print(\"Updated fruit_list:\", fruit_list)\n",
        "\n",
        "    fruit_list.insert(0, 'kiwi')\n",
        "    print(\"Updated fruit_list:\", fruit_list)\n",
        "\n",
        "\n",
        "if __name__ == \"__main__\":\n",
        "    main()\n"
      ],
      "metadata": {
        "colab": {
          "base_uri": "https://localhost:8080/"
        },
        "id": "JsZ3hVzUOss1",
        "outputId": "f0a52d6d-ee6b-49c0-f1ff-13f25d972c41"
      },
      "execution_count": 9,
      "outputs": [
        {
          "output_type": "stream",
          "name": "stdout",
          "text": [
            "Problem #1: List Practice\n",
            "Length of fruit_list: 5\n",
            "Updated fruit_list: ['apple', 'banana', 'orange', 'grape', 'pineapple', 'mango']\n",
            "Updated fruit_list: ['kiwi', 'apple', 'banana', 'orange', 'grape', 'pineapple', 'mango']\n"
          ]
        }
      ]
    },
    {
      "cell_type": "code",
      "source": [
        "print(' Problem #2: Index Game')\n",
        "\n",
        "def access_element(lst, index):\n",
        "    if 0 <= index < len(lst):\n",
        "        return lst[index]\n",
        "    else:\n",
        "        return \"Index out of range!\"\n",
        "\n",
        "def modify_element(lst, index, new_value):\n",
        "    if 0 <= index < len(lst):\n",
        "        lst[index] = new_value\n",
        "        return lst\n",
        "    else:\n",
        "        return \"Index out of range!\"\n",
        "\n",
        "def slice_list(lst, start, end):\n",
        "    if start < 0 or end > len(lst):\n",
        "        return \"Slice indices out of range!\"\n",
        "    else:\n",
        "        return lst[start:end]\n",
        "\n",
        "def game():\n",
        "    # Example initial list\n",
        "    my_list = ['sun', 'moon', 'star', 'planet', 'galaxy']\n",
        "    print(\"Initial list:\", my_list)\n",
        "\n",
        "    while True:\n",
        "        print(\"\\nChoose an operation:\")\n",
        "        print(\"1. Access element\")\n",
        "        print(\"2. Modify element\")\n",
        "        print(\"3. Slice list\")\n",
        "        print(\"4. Quit\")\n",
        "\n",
        "        choice = input(\"Enter your choice (1-4): \")\n",
        "\n",
        "        if choice == '1':\n",
        "            index = int(input(\"Enter the index to access: \"))\n",
        "            result = access_element(my_list, index)\n",
        "            print(\"Result:\", result)\n",
        "\n",
        "        elif choice == '2':\n",
        "            index = int(input(\"Enter the index to modify: \"))\n",
        "            new_value = input(\"Enter the new value: \")\n",
        "            result = modify_element(my_list, index, new_value)\n",
        "            print(\"Updated list:\", result)\n",
        "\n",
        "        elif choice == '3':\n",
        "            start = int(input(\"Enter the start index: \"))\n",
        "            end = int(input(\"Enter the end index: \"))\n",
        "            result = slice_list(my_list, start, end)\n",
        "            print(\"Sliced list:\", result)\n",
        "\n",
        "        elif choice == '4':\n",
        "            print(\"Exiting the game. Bye!\")\n",
        "            break\n",
        "\n",
        "        else:\n",
        "            print(\"Invalid choice. Try again!\")\n",
        "\n",
        "if __name__ == \"__main__\":\n",
        "    game()\n"
      ],
      "metadata": {
        "colab": {
          "base_uri": "https://localhost:8080/"
        },
        "id": "gKRDPZbmPqQO",
        "outputId": "31fcbf86-6b7d-4ee0-e14b-49f74d8f0297"
      },
      "execution_count": 10,
      "outputs": [
        {
          "output_type": "stream",
          "name": "stdout",
          "text": [
            " Problem #2: Index Game\n",
            "Initial list: ['sun', 'moon', 'star', 'planet', 'galaxy']\n",
            "\n",
            "Choose an operation:\n",
            "1. Access element\n",
            "2. Modify element\n",
            "3. Slice list\n",
            "4. Quit\n",
            "Enter your choice (1-4): 2\n",
            "Enter the index to modify: 3\n",
            "Enter the new value: comet\n",
            "Updated list: ['sun', 'moon', 'star', 'comet', 'galaxy']\n",
            "\n",
            "Choose an operation:\n",
            "1. Access element\n",
            "2. Modify element\n",
            "3. Slice list\n",
            "4. Quit\n",
            "Enter your choice (1-4): 4\n",
            "Exiting the game. Bye!\n"
          ]
        }
      ]
    }
  ]
}